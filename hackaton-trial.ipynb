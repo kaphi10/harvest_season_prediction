{
 "cells": [
  {
   "cell_type": "markdown",
   "id": "9b1fc908",
   "metadata": {},
   "source": [
    "## Harvest Season Prediction\n",
    "### Introduction:\n",
    "> Crop hervest season prediction is all about predicting the right time for plant harvesting base on some variable like Temperature, Humidity, Ph, Water availability, Crops, Country, The target variable in the dataset is harvest season.\n",
    "\n",
    "> Using some machine learning algorithm to predict future occurence base on the trained values\n",
    "\n",
    "> Finally deploy the model in user friendly manners that can actually enable the non tech farmers to easily access the app using streamlit"
   ]
  },
  {
   "cell_type": "code",
   "execution_count": 1,
   "id": "d706074d",
   "metadata": {},
   "outputs": [],
   "source": [
    "import pandas as pd\n",
    "import numpy as np\n",
    "import matplotlib.pyplot as plt\n",
    "import seaborn as sb\n",
    "import warnings\n",
    "warnings.filterwarnings('ignore')"
   ]
  },
  {
   "cell_type": "code",
   "execution_count": 2,
   "id": "4a949004",
   "metadata": {},
   "outputs": [
    {
     "name": "stdout",
     "output_type": "stream",
     "text": [
      "(1400, 7)\n"
     ]
    },
    {
     "data": {
      "text/html": [
       "<div>\n",
       "<style scoped>\n",
       "    .dataframe tbody tr th:only-of-type {\n",
       "        vertical-align: middle;\n",
       "    }\n",
       "\n",
       "    .dataframe tbody tr th {\n",
       "        vertical-align: top;\n",
       "    }\n",
       "\n",
       "    .dataframe thead th {\n",
       "        text-align: right;\n",
       "    }\n",
       "</style>\n",
       "<table border=\"1\" class=\"dataframe\">\n",
       "  <thead>\n",
       "    <tr style=\"text-align: right;\">\n",
       "      <th></th>\n",
       "      <th>temperature</th>\n",
       "      <th>humidity</th>\n",
       "      <th>ph</th>\n",
       "      <th>water availability</th>\n",
       "      <th>season</th>\n",
       "      <th>label</th>\n",
       "      <th>Country</th>\n",
       "    </tr>\n",
       "  </thead>\n",
       "  <tbody>\n",
       "    <tr>\n",
       "      <th>0</th>\n",
       "      <td>20.879744</td>\n",
       "      <td>82.002744</td>\n",
       "      <td>6.502985</td>\n",
       "      <td>202.935536</td>\n",
       "      <td>rainy</td>\n",
       "      <td>rice</td>\n",
       "      <td>Nigeria</td>\n",
       "    </tr>\n",
       "    <tr>\n",
       "      <th>1</th>\n",
       "      <td>21.770462</td>\n",
       "      <td>80.319644</td>\n",
       "      <td>7.038096</td>\n",
       "      <td>226.655537</td>\n",
       "      <td>rainy</td>\n",
       "      <td>rice</td>\n",
       "      <td>Nigeria</td>\n",
       "    </tr>\n",
       "    <tr>\n",
       "      <th>2</th>\n",
       "      <td>23.004459</td>\n",
       "      <td>82.320763</td>\n",
       "      <td>7.840207</td>\n",
       "      <td>263.964248</td>\n",
       "      <td>rainy</td>\n",
       "      <td>rice</td>\n",
       "      <td>Nigeria</td>\n",
       "    </tr>\n",
       "    <tr>\n",
       "      <th>3</th>\n",
       "      <td>26.491096</td>\n",
       "      <td>80.158363</td>\n",
       "      <td>6.980401</td>\n",
       "      <td>242.864034</td>\n",
       "      <td>rainy</td>\n",
       "      <td>rice</td>\n",
       "      <td>Nigeria</td>\n",
       "    </tr>\n",
       "    <tr>\n",
       "      <th>4</th>\n",
       "      <td>20.130175</td>\n",
       "      <td>81.604873</td>\n",
       "      <td>7.628473</td>\n",
       "      <td>262.717340</td>\n",
       "      <td>rainy</td>\n",
       "      <td>rice</td>\n",
       "      <td>Nigeria</td>\n",
       "    </tr>\n",
       "  </tbody>\n",
       "</table>\n",
       "</div>"
      ],
      "text/plain": [
       "   temperature   humidity        ph  water availability season label  Country\n",
       "0    20.879744  82.002744  6.502985          202.935536  rainy  rice  Nigeria\n",
       "1    21.770462  80.319644  7.038096          226.655537  rainy  rice  Nigeria\n",
       "2    23.004459  82.320763  7.840207          263.964248  rainy  rice  Nigeria\n",
       "3    26.491096  80.158363  6.980401          242.864034  rainy  rice  Nigeria\n",
       "4    20.130175  81.604873  7.628473          262.717340  rainy  rice  Nigeria"
      ]
     },
     "execution_count": 2,
     "metadata": {},
     "output_type": "execute_result"
    }
   ],
   "source": [
    "df=pd.read_csv('Crop_Data.csv')\n",
    "print(df.shape)\n",
    "df.head()\n"
   ]
  },
  {
   "cell_type": "code",
   "execution_count": 3,
   "id": "074ed3fe",
   "metadata": {},
   "outputs": [],
   "source": [
    "#df.rename(columns={'label':'crop'}, inplace=True)"
   ]
  },
  {
   "cell_type": "code",
   "execution_count": 4,
   "id": "5161023e",
   "metadata": {},
   "outputs": [
    {
     "name": "stdout",
     "output_type": "stream",
     "text": [
      "<class 'pandas.core.frame.DataFrame'>\n",
      "RangeIndex: 1400 entries, 0 to 1399\n",
      "Data columns (total 7 columns):\n",
      " #   Column              Non-Null Count  Dtype  \n",
      "---  ------              --------------  -----  \n",
      " 0   temperature         1400 non-null   float64\n",
      " 1   humidity            1400 non-null   float64\n",
      " 2   ph                  1400 non-null   float64\n",
      " 3   water availability  1400 non-null   float64\n",
      " 4   season              1400 non-null   object \n",
      " 5   label               1400 non-null   object \n",
      " 6   Country             1400 non-null   object \n",
      "dtypes: float64(4), object(3)\n",
      "memory usage: 76.7+ KB\n"
     ]
    }
   ],
   "source": [
    "df.info()"
   ]
  },
  {
   "cell_type": "code",
   "execution_count": 5,
   "id": "37b517f3",
   "metadata": {},
   "outputs": [
    {
     "data": {
      "text/html": [
       "<div>\n",
       "<style scoped>\n",
       "    .dataframe tbody tr th:only-of-type {\n",
       "        vertical-align: middle;\n",
       "    }\n",
       "\n",
       "    .dataframe tbody tr th {\n",
       "        vertical-align: top;\n",
       "    }\n",
       "\n",
       "    .dataframe thead th {\n",
       "        text-align: right;\n",
       "    }\n",
       "</style>\n",
       "<table border=\"1\" class=\"dataframe\">\n",
       "  <thead>\n",
       "    <tr style=\"text-align: right;\">\n",
       "      <th></th>\n",
       "      <th>temperature</th>\n",
       "      <th>humidity</th>\n",
       "      <th>ph</th>\n",
       "      <th>water availability</th>\n",
       "    </tr>\n",
       "  </thead>\n",
       "  <tbody>\n",
       "    <tr>\n",
       "      <th>count</th>\n",
       "      <td>1400.000000</td>\n",
       "      <td>1400.000000</td>\n",
       "      <td>1400.000000</td>\n",
       "      <td>1400.000000</td>\n",
       "    </tr>\n",
       "    <tr>\n",
       "      <th>mean</th>\n",
       "      <td>24.971621</td>\n",
       "      <td>64.611062</td>\n",
       "      <td>6.565246</td>\n",
       "      <td>91.784651</td>\n",
       "    </tr>\n",
       "    <tr>\n",
       "      <th>std</th>\n",
       "      <td>4.081622</td>\n",
       "      <td>22.753785</td>\n",
       "      <td>0.835101</td>\n",
       "      <td>58.682258</td>\n",
       "    </tr>\n",
       "    <tr>\n",
       "      <th>min</th>\n",
       "      <td>15.330426</td>\n",
       "      <td>14.258040</td>\n",
       "      <td>3.504752</td>\n",
       "      <td>20.211267</td>\n",
       "    </tr>\n",
       "    <tr>\n",
       "      <th>25%</th>\n",
       "      <td>22.178239</td>\n",
       "      <td>56.824217</td>\n",
       "      <td>6.068795</td>\n",
       "      <td>51.546542</td>\n",
       "    </tr>\n",
       "    <tr>\n",
       "      <th>50%</th>\n",
       "      <td>25.140245</td>\n",
       "      <td>68.288321</td>\n",
       "      <td>6.524478</td>\n",
       "      <td>72.379183</td>\n",
       "    </tr>\n",
       "    <tr>\n",
       "      <th>75%</th>\n",
       "      <td>27.963227</td>\n",
       "      <td>82.710409</td>\n",
       "      <td>7.042343</td>\n",
       "      <td>107.428334</td>\n",
       "    </tr>\n",
       "    <tr>\n",
       "      <th>max</th>\n",
       "      <td>36.977944</td>\n",
       "      <td>94.962187</td>\n",
       "      <td>9.935091</td>\n",
       "      <td>298.560117</td>\n",
       "    </tr>\n",
       "  </tbody>\n",
       "</table>\n",
       "</div>"
      ],
      "text/plain": [
       "       temperature     humidity           ph  water availability\n",
       "count  1400.000000  1400.000000  1400.000000         1400.000000\n",
       "mean     24.971621    64.611062     6.565246           91.784651\n",
       "std       4.081622    22.753785     0.835101           58.682258\n",
       "min      15.330426    14.258040     3.504752           20.211267\n",
       "25%      22.178239    56.824217     6.068795           51.546542\n",
       "50%      25.140245    68.288321     6.524478           72.379183\n",
       "75%      27.963227    82.710409     7.042343          107.428334\n",
       "max      36.977944    94.962187     9.935091          298.560117"
      ]
     },
     "execution_count": 5,
     "metadata": {},
     "output_type": "execute_result"
    }
   ],
   "source": [
    "df.describe()"
   ]
  },
  {
   "cell_type": "code",
   "execution_count": 6,
   "id": "0b857828",
   "metadata": {},
   "outputs": [
    {
     "data": {
      "text/plain": [
       "Index(['season', 'label', 'Country'], dtype='object')"
      ]
     },
     "execution_count": 6,
     "metadata": {},
     "output_type": "execute_result"
    }
   ],
   "source": [
    "obj_col=df.select_dtypes('object').columns\n",
    "obj_col"
   ]
  },
  {
   "cell_type": "code",
   "execution_count": 7,
   "id": "405d88dd",
   "metadata": {},
   "outputs": [
    {
     "name": "stdout",
     "output_type": "stream",
     "text": [
      "['rainy' 'winter' 'spring' 'summer']\n",
      "['rice' 'maize' 'chickpea' 'kidneybeans' 'pigeonpeas' 'mothbeans'\n",
      " 'mungbean' 'blackgram' 'lentil' 'watermelon' 'muskmelon' 'cotton' 'jute']\n",
      "['Nigeria' 'South Africa' 'Kenya' 'Sudan']\n"
     ]
    }
   ],
   "source": [
    "for col in obj_col:\n",
    "    print(df[col].unique())"
   ]
  },
  {
   "cell_type": "markdown",
   "id": "522aeb56",
   "metadata": {},
   "source": [
    "### EXPLORATORY DATA ANALYSIS"
   ]
  },
  {
   "cell_type": "code",
   "execution_count": 8,
   "id": "610ef1e1",
   "metadata": {},
   "outputs": [
    {
     "name": "stdout",
     "output_type": "stream",
     "text": [
      "Average Water Required for the cultivation of each crops across the countres\n"
     ]
    },
    {
     "data": {
      "text/html": [
       "<div>\n",
       "<style scoped>\n",
       "    .dataframe tbody tr th:only-of-type {\n",
       "        vertical-align: middle;\n",
       "    }\n",
       "\n",
       "    .dataframe tbody tr th {\n",
       "        vertical-align: top;\n",
       "    }\n",
       "\n",
       "    .dataframe thead th {\n",
       "        text-align: right;\n",
       "    }\n",
       "</style>\n",
       "<table border=\"1\" class=\"dataframe\">\n",
       "  <thead>\n",
       "    <tr style=\"text-align: right;\">\n",
       "      <th>Country</th>\n",
       "      <th>Kenya</th>\n",
       "      <th>Nigeria</th>\n",
       "      <th>South Africa</th>\n",
       "      <th>Sudan</th>\n",
       "    </tr>\n",
       "    <tr>\n",
       "      <th>label</th>\n",
       "      <th></th>\n",
       "      <th></th>\n",
       "      <th></th>\n",
       "      <th></th>\n",
       "    </tr>\n",
       "  </thead>\n",
       "  <tbody>\n",
       "    <tr>\n",
       "      <th>blackgram</th>\n",
       "      <td>67.477377</td>\n",
       "      <td>67.115972</td>\n",
       "      <td>69.378335</td>\n",
       "      <td>67.264928</td>\n",
       "    </tr>\n",
       "    <tr>\n",
       "      <th>chickpea</th>\n",
       "      <td>78.008508</td>\n",
       "      <td>78.448305</td>\n",
       "      <td>83.330868</td>\n",
       "      <td>86.415897</td>\n",
       "    </tr>\n",
       "    <tr>\n",
       "      <th>cotton</th>\n",
       "      <td>75.869686</td>\n",
       "      <td>80.490387</td>\n",
       "      <td>81.242154</td>\n",
       "      <td>80.888709</td>\n",
       "    </tr>\n",
       "    <tr>\n",
       "      <th>jute</th>\n",
       "      <td>172.767702</td>\n",
       "      <td>177.287943</td>\n",
       "      <td>173.249384</td>\n",
       "      <td>172.061178</td>\n",
       "    </tr>\n",
       "    <tr>\n",
       "      <th>kidneybeans</th>\n",
       "      <td>99.844908</td>\n",
       "      <td>109.712343</td>\n",
       "      <td>102.687906</td>\n",
       "      <td>94.522681</td>\n",
       "    </tr>\n",
       "    <tr>\n",
       "      <th>lentil</th>\n",
       "      <td>47.662876</td>\n",
       "      <td>45.384485</td>\n",
       "      <td>46.262756</td>\n",
       "      <td>43.467640</td>\n",
       "    </tr>\n",
       "    <tr>\n",
       "      <th>maize</th>\n",
       "      <td>83.277771</td>\n",
       "      <td>83.656932</td>\n",
       "      <td>86.671954</td>\n",
       "      <td>89.463750</td>\n",
       "    </tr>\n",
       "    <tr>\n",
       "      <th>mothbeans</th>\n",
       "      <td>55.157945</td>\n",
       "      <td>49.766110</td>\n",
       "      <td>51.122975</td>\n",
       "      <td>67.324112</td>\n",
       "    </tr>\n",
       "    <tr>\n",
       "      <th>mungbean</th>\n",
       "      <td>56.786181</td>\n",
       "      <td>47.616815</td>\n",
       "      <td>48.136631</td>\n",
       "      <td>47.396526</td>\n",
       "    </tr>\n",
       "    <tr>\n",
       "      <th>muskmelon</th>\n",
       "      <td>24.162220</td>\n",
       "      <td>24.680063</td>\n",
       "      <td>24.909722</td>\n",
       "      <td>23.155873</td>\n",
       "    </tr>\n",
       "    <tr>\n",
       "      <th>pigeonpeas</th>\n",
       "      <td>145.983192</td>\n",
       "      <td>147.775167</td>\n",
       "      <td>152.338576</td>\n",
       "      <td>153.617478</td>\n",
       "    </tr>\n",
       "    <tr>\n",
       "      <th>rice</th>\n",
       "      <td>237.148488</td>\n",
       "      <td>237.484564</td>\n",
       "      <td>235.404651</td>\n",
       "      <td>182.561632</td>\n",
       "    </tr>\n",
       "    <tr>\n",
       "      <th>watermelon</th>\n",
       "      <td>49.314955</td>\n",
       "      <td>52.807151</td>\n",
       "      <td>49.611665</td>\n",
       "      <td>46.313044</td>\n",
       "    </tr>\n",
       "  </tbody>\n",
       "</table>\n",
       "</div>"
      ],
      "text/plain": [
       "Country           Kenya     Nigeria  South Africa       Sudan\n",
       "label                                                        \n",
       "blackgram     67.477377   67.115972     69.378335   67.264928\n",
       "chickpea      78.008508   78.448305     83.330868   86.415897\n",
       "cotton        75.869686   80.490387     81.242154   80.888709\n",
       "jute         172.767702  177.287943    173.249384  172.061178\n",
       "kidneybeans   99.844908  109.712343    102.687906   94.522681\n",
       "lentil        47.662876   45.384485     46.262756   43.467640\n",
       "maize         83.277771   83.656932     86.671954   89.463750\n",
       "mothbeans     55.157945   49.766110     51.122975   67.324112\n",
       "mungbean      56.786181   47.616815     48.136631   47.396526\n",
       "muskmelon     24.162220   24.680063     24.909722   23.155873\n",
       "pigeonpeas   145.983192  147.775167    152.338576  153.617478\n",
       "rice         237.148488  237.484564    235.404651  182.561632\n",
       "watermelon    49.314955   52.807151     49.611665   46.313044"
      ]
     },
     "execution_count": 8,
     "metadata": {},
     "output_type": "execute_result"
    }
   ],
   "source": [
    "#WATER AVAILABILITY ACCORDING TO THE PLANT AND REGION\n",
    "print('Average Water Required for the cultivation of each crops across the countres')\n",
    "water= df.groupby(['Country','label'])['water availability'].mean().reset_index(name='Average')\n",
    "water=(water.pivot_table(index=['label'], columns=['Country'], values='Average'))\n",
    "water"
   ]
  },
  {
   "cell_type": "markdown",
   "id": "0762da54",
   "metadata": {},
   "source": [
    "The average amount of water necessary for the plantation of each crops according to the regions is displayed in the table above with Jute, pigeonpeas and rice having more demand for water before cultivation."
   ]
  },
  {
   "cell_type": "code",
   "execution_count": 9,
   "id": "9d7dd3cb",
   "metadata": {},
   "outputs": [
    {
     "name": "stdout",
     "output_type": "stream",
     "text": [
      "Average Water Required for the cultivation of each crops base on the season\n"
     ]
    },
    {
     "data": {
      "text/html": [
       "<div>\n",
       "<style scoped>\n",
       "    .dataframe tbody tr th:only-of-type {\n",
       "        vertical-align: middle;\n",
       "    }\n",
       "\n",
       "    .dataframe tbody tr th {\n",
       "        vertical-align: top;\n",
       "    }\n",
       "\n",
       "    .dataframe thead th {\n",
       "        text-align: right;\n",
       "    }\n",
       "</style>\n",
       "<table border=\"1\" class=\"dataframe\">\n",
       "  <thead>\n",
       "    <tr style=\"text-align: right;\">\n",
       "      <th>season</th>\n",
       "      <th>rainy</th>\n",
       "      <th>spring</th>\n",
       "      <th>summer</th>\n",
       "      <th>winter</th>\n",
       "    </tr>\n",
       "    <tr>\n",
       "      <th>label</th>\n",
       "      <th></th>\n",
       "      <th></th>\n",
       "      <th></th>\n",
       "      <th></th>\n",
       "    </tr>\n",
       "  </thead>\n",
       "  <tbody>\n",
       "    <tr>\n",
       "      <th>blackgram</th>\n",
       "      <td>NaN</td>\n",
       "      <td>NaN</td>\n",
       "      <td>NaN</td>\n",
       "      <td>67.884151</td>\n",
       "    </tr>\n",
       "    <tr>\n",
       "      <th>chickpea</th>\n",
       "      <td>NaN</td>\n",
       "      <td>NaN</td>\n",
       "      <td>NaN</td>\n",
       "      <td>80.058977</td>\n",
       "    </tr>\n",
       "    <tr>\n",
       "      <th>cotton</th>\n",
       "      <td>NaN</td>\n",
       "      <td>NaN</td>\n",
       "      <td>NaN</td>\n",
       "      <td>80.398043</td>\n",
       "    </tr>\n",
       "    <tr>\n",
       "      <th>jute</th>\n",
       "      <td>174.792798</td>\n",
       "      <td>NaN</td>\n",
       "      <td>NaN</td>\n",
       "      <td>NaN</td>\n",
       "    </tr>\n",
       "    <tr>\n",
       "      <th>kidneybeans</th>\n",
       "      <td>NaN</td>\n",
       "      <td>105.919778</td>\n",
       "      <td>NaN</td>\n",
       "      <td>NaN</td>\n",
       "    </tr>\n",
       "    <tr>\n",
       "      <th>lentil</th>\n",
       "      <td>45.680454</td>\n",
       "      <td>NaN</td>\n",
       "      <td>NaN</td>\n",
       "      <td>NaN</td>\n",
       "    </tr>\n",
       "    <tr>\n",
       "      <th>maize</th>\n",
       "      <td>84.766988</td>\n",
       "      <td>NaN</td>\n",
       "      <td>NaN</td>\n",
       "      <td>84.766988</td>\n",
       "    </tr>\n",
       "    <tr>\n",
       "      <th>mothbeans</th>\n",
       "      <td>NaN</td>\n",
       "      <td>NaN</td>\n",
       "      <td>51.198487</td>\n",
       "      <td>NaN</td>\n",
       "    </tr>\n",
       "    <tr>\n",
       "      <th>mungbean</th>\n",
       "      <td>48.403601</td>\n",
       "      <td>NaN</td>\n",
       "      <td>NaN</td>\n",
       "      <td>NaN</td>\n",
       "    </tr>\n",
       "    <tr>\n",
       "      <th>muskmelon</th>\n",
       "      <td>NaN</td>\n",
       "      <td>NaN</td>\n",
       "      <td>24.689952</td>\n",
       "      <td>NaN</td>\n",
       "    </tr>\n",
       "    <tr>\n",
       "      <th>pigeonpeas</th>\n",
       "      <td>149.457564</td>\n",
       "      <td>NaN</td>\n",
       "      <td>NaN</td>\n",
       "      <td>NaN</td>\n",
       "    </tr>\n",
       "    <tr>\n",
       "      <th>rice</th>\n",
       "      <td>236.181114</td>\n",
       "      <td>NaN</td>\n",
       "      <td>NaN</td>\n",
       "      <td>NaN</td>\n",
       "    </tr>\n",
       "    <tr>\n",
       "      <th>watermelon</th>\n",
       "      <td>NaN</td>\n",
       "      <td>NaN</td>\n",
       "      <td>50.786219</td>\n",
       "      <td>NaN</td>\n",
       "    </tr>\n",
       "  </tbody>\n",
       "</table>\n",
       "</div>"
      ],
      "text/plain": [
       "season            rainy      spring     summer     winter\n",
       "label                                                    \n",
       "blackgram           NaN         NaN        NaN  67.884151\n",
       "chickpea            NaN         NaN        NaN  80.058977\n",
       "cotton              NaN         NaN        NaN  80.398043\n",
       "jute         174.792798         NaN        NaN        NaN\n",
       "kidneybeans         NaN  105.919778        NaN        NaN\n",
       "lentil        45.680454         NaN        NaN        NaN\n",
       "maize         84.766988         NaN        NaN  84.766988\n",
       "mothbeans           NaN         NaN  51.198487        NaN\n",
       "mungbean      48.403601         NaN        NaN        NaN\n",
       "muskmelon           NaN         NaN  24.689952        NaN\n",
       "pigeonpeas   149.457564         NaN        NaN        NaN\n",
       "rice         236.181114         NaN        NaN        NaN\n",
       "watermelon          NaN         NaN  50.786219        NaN"
      ]
     },
     "execution_count": 9,
     "metadata": {},
     "output_type": "execute_result"
    }
   ],
   "source": [
    "#WATER AVAILABILITY ACCORDING TO THE PLANT AND REGION\n",
    "print('Average Water Required for the cultivation of each crops base on the season')\n",
    "water_= df.groupby(['season','label'])['water availability'].mean().reset_index(name='Average')\n",
    "water_=(water_.pivot_table(index=['label'], columns=['season'], values='Average'))\n",
    "water_"
   ]
  },
  {
   "cell_type": "code",
   "execution_count": 10,
   "id": "1d7f4bf0",
   "metadata": {},
   "outputs": [
    {
     "data": {
      "image/png": "[encoded data removed]",
      "text/plain": [
       "<Figure size 640x480 with 1 Axes>"
      ]
     },
     "metadata": {},
     "output_type": "display_data"
    }
   ],
   "source": [
    "sb.countplot(data=df, y='label', hue='Country')\n",
    "plt.title('Distribution of Crops according to country')\n",
    "plt.ylabel('Name of Crops')\n",
    "plt.xlabel('Counts')\n",
    "plt.legend()\n",
    "plt.show()"
   ]
  },
  {
   "cell_type": "code",
   "execution_count": 11,
   "id": "ac87e287",
   "metadata": {},
   "outputs": [
    {
     "data": {
      "text/plain": [
       "Nigeria         713\n",
       "South Africa    468\n",
       "Kenya           155\n",
       "Sudan            64\n",
       "Name: Country, dtype: int64"
      ]
     },
     "execution_count": 11,
     "metadata": {},
     "output_type": "execute_result"
    }
   ],
   "source": [
    "df['Country'].value_counts()"
   ]
  },
  {
   "cell_type": "code",
   "execution_count": 251,
   "id": "d88c490f",
   "metadata": {},
   "outputs": [
    {
     "data": {
      "text/plain": [
       "rainy     600\n",
       "winter    400\n",
       "summer    300\n",
       "spring    100\n",
       "Name: season, dtype: int64"
      ]
     },
     "execution_count": 251,
     "metadata": {},
     "output_type": "execute_result"
    }
   ],
   "source": [
    "df['season'].value_counts()"
   ]
  },
  {
   "cell_type": "code",
   "execution_count": 252,
   "id": "eed2048f",
   "metadata": {},
   "outputs": [
    {
     "data": {
      "text/plain": [
       "season\n",
       "rainy     6\n",
       "spring    1\n",
       "summer    3\n",
       "winter    4\n",
       "Name: label, dtype: int64"
      ]
     },
     "execution_count": 252,
     "metadata": {},
     "output_type": "execute_result"
    }
   ],
   "source": [
    "df.groupby('season')['label'].nunique()"
   ]
  },
  {
   "cell_type": "code",
   "execution_count": 253,
   "id": "013953ae",
   "metadata": {},
   "outputs": [
    {
     "data": {
      "text/plain": [
       "Country\n",
       "Kenya           4\n",
       "Nigeria         4\n",
       "South Africa    4\n",
       "Sudan           4\n",
       "Name: season, dtype: int64"
      ]
     },
     "execution_count": 253,
     "metadata": {},
     "output_type": "execute_result"
    }
   ],
   "source": [
    "df.groupby('Country')['season'].nunique()"
   ]
  },
  {
   "cell_type": "code",
   "execution_count": 254,
   "id": "ac96a85f",
   "metadata": {},
   "outputs": [
    {
     "data": {
      "text/plain": [
       "Index(['temperature', 'humidity', 'ph', 'water availability'], dtype='object')"
      ]
     },
     "execution_count": 254,
     "metadata": {},
     "output_type": "execute_result"
    }
   ],
   "source": [
    "num_col=df.select_dtypes('number').columns\n",
    "num_col"
   ]
  },
  {
   "cell_type": "code",
   "execution_count": 255,
   "id": "1e1cd5d6",
   "metadata": {},
   "outputs": [
    {
     "data": {
      "text/plain": [
       "<Axes: >"
      ]
     },
     "execution_count": 255,
     "metadata": {},
     "output_type": "execute_result"
    },
    {
     "data": {
      "image/png": "[encoded data removed]",
      "text/plain": [
       "<Figure size 640x480 with 2 Axes>"
      ]
     },
     "metadata": {},
     "output_type": "display_data"
    }
   ],
   "source": [
    "sb.heatmap(df[num_col].corr(), cmap='coolwarm', annot=True)"
   ]
  },
  {
   "cell_type": "code",
   "execution_count": 256,
   "id": "9c5a0e99",
   "metadata": {},
   "outputs": [],
   "source": [
    "df_copy=df.copy()\n",
    "df2=df.copy()"
   ]
  },
  {
   "cell_type": "code",
   "execution_count": 257,
   "id": "ceb6adbe",
   "metadata": {},
   "outputs": [],
   "source": [
    "from sklearn.preprocessing import LabelEncoder"
   ]
  },
  {
   "cell_type": "code",
   "execution_count": 258,
   "id": "350f3867",
   "metadata": {},
   "outputs": [],
   "source": [
    "encoder=LabelEncoder()\n",
    "df_copy['encoded_season']=encoder.fit_transform(df_copy['season'])\n",
    "df_copy['encoded_label']=encoder.fit_transform(df_copy['label'])\n",
    "df_copy['encoded_country']=encoder.fit_transform(df_copy['Country'])"
   ]
  },
  {
   "cell_type": "code",
   "execution_count": 259,
   "id": "252fbe3a",
   "metadata": {},
   "outputs": [],
   "source": [
    "df2['encoded_season']=encoder.fit_transform(df2['season'])"
   ]
  },
  {
   "cell_type": "code",
   "execution_count": 260,
   "id": "3c9bbeab",
   "metadata": {},
   "outputs": [
    {
     "data": {
      "text/html": [
       "<div>\n",
       "<style scoped>\n",
       "    .dataframe tbody tr th:only-of-type {\n",
       "        vertical-align: middle;\n",
       "    }\n",
       "\n",
       "    .dataframe tbody tr th {\n",
       "        vertical-align: top;\n",
       "    }\n",
       "\n",
       "    .dataframe thead th {\n",
       "        text-align: right;\n",
       "    }\n",
       "</style>\n",
       "<table border=\"1\" class=\"dataframe\">\n",
       "  <thead>\n",
       "    <tr style=\"text-align: right;\">\n",
       "      <th></th>\n",
       "      <th>temperature</th>\n",
       "      <th>humidity</th>\n",
       "      <th>ph</th>\n",
       "      <th>water availability</th>\n",
       "      <th>season</th>\n",
       "      <th>encoded_season</th>\n",
       "      <th>label_blackgram</th>\n",
       "      <th>label_chickpea</th>\n",
       "      <th>label_cotton</th>\n",
       "      <th>label_jute</th>\n",
       "      <th>...</th>\n",
       "      <th>label_mothbeans</th>\n",
       "      <th>label_mungbean</th>\n",
       "      <th>label_muskmelon</th>\n",
       "      <th>label_pigeonpeas</th>\n",
       "      <th>label_rice</th>\n",
       "      <th>label_watermelon</th>\n",
       "      <th>Country_Kenya</th>\n",
       "      <th>Country_Nigeria</th>\n",
       "      <th>Country_South Africa</th>\n",
       "      <th>Country_Sudan</th>\n",
       "    </tr>\n",
       "  </thead>\n",
       "  <tbody>\n",
       "    <tr>\n",
       "      <th>0</th>\n",
       "      <td>20.879744</td>\n",
       "      <td>82.002744</td>\n",
       "      <td>6.502985</td>\n",
       "      <td>202.935536</td>\n",
       "      <td>rainy</td>\n",
       "      <td>0</td>\n",
       "      <td>0</td>\n",
       "      <td>0</td>\n",
       "      <td>0</td>\n",
       "      <td>0</td>\n",
       "      <td>...</td>\n",
       "      <td>0</td>\n",
       "      <td>0</td>\n",
       "      <td>0</td>\n",
       "      <td>0</td>\n",
       "      <td>1</td>\n",
       "      <td>0</td>\n",
       "      <td>0</td>\n",
       "      <td>1</td>\n",
       "      <td>0</td>\n",
       "      <td>0</td>\n",
       "    </tr>\n",
       "    <tr>\n",
       "      <th>1</th>\n",
       "      <td>21.770462</td>\n",
       "      <td>80.319644</td>\n",
       "      <td>7.038096</td>\n",
       "      <td>226.655537</td>\n",
       "      <td>rainy</td>\n",
       "      <td>0</td>\n",
       "      <td>0</td>\n",
       "      <td>0</td>\n",
       "      <td>0</td>\n",
       "      <td>0</td>\n",
       "      <td>...</td>\n",
       "      <td>0</td>\n",
       "      <td>0</td>\n",
       "      <td>0</td>\n",
       "      <td>0</td>\n",
       "      <td>1</td>\n",
       "      <td>0</td>\n",
       "      <td>0</td>\n",
       "      <td>1</td>\n",
       "      <td>0</td>\n",
       "      <td>0</td>\n",
       "    </tr>\n",
       "    <tr>\n",
       "      <th>2</th>\n",
       "      <td>23.004459</td>\n",
       "      <td>82.320763</td>\n",
       "      <td>7.840207</td>\n",
       "      <td>263.964248</td>\n",
       "      <td>rainy</td>\n",
       "      <td>0</td>\n",
       "      <td>0</td>\n",
       "      <td>0</td>\n",
       "      <td>0</td>\n",
       "      <td>0</td>\n",
       "      <td>...</td>\n",
       "      <td>0</td>\n",
       "      <td>0</td>\n",
       "      <td>0</td>\n",
       "      <td>0</td>\n",
       "      <td>1</td>\n",
       "      <td>0</td>\n",
       "      <td>0</td>\n",
       "      <td>1</td>\n",
       "      <td>0</td>\n",
       "      <td>0</td>\n",
       "    </tr>\n",
       "    <tr>\n",
       "      <th>3</th>\n",
       "      <td>26.491096</td>\n",
       "      <td>80.158363</td>\n",
       "      <td>6.980401</td>\n",
       "      <td>242.864034</td>\n",
       "      <td>rainy</td>\n",
       "      <td>0</td>\n",
       "      <td>0</td>\n",
       "      <td>0</td>\n",
       "      <td>0</td>\n",
       "      <td>0</td>\n",
       "      <td>...</td>\n",
       "      <td>0</td>\n",
       "      <td>0</td>\n",
       "      <td>0</td>\n",
       "      <td>0</td>\n",
       "      <td>1</td>\n",
       "      <td>0</td>\n",
       "      <td>0</td>\n",
       "      <td>1</td>\n",
       "      <td>0</td>\n",
       "      <td>0</td>\n",
       "    </tr>\n",
       "    <tr>\n",
       "      <th>4</th>\n",
       "      <td>20.130175</td>\n",
       "      <td>81.604873</td>\n",
       "      <td>7.628473</td>\n",
       "      <td>262.717340</td>\n",
       "      <td>rainy</td>\n",
       "      <td>0</td>\n",
       "      <td>0</td>\n",
       "      <td>0</td>\n",
       "      <td>0</td>\n",
       "      <td>0</td>\n",
       "      <td>...</td>\n",
       "      <td>0</td>\n",
       "      <td>0</td>\n",
       "      <td>0</td>\n",
       "      <td>0</td>\n",
       "      <td>1</td>\n",
       "      <td>0</td>\n",
       "      <td>0</td>\n",
       "      <td>1</td>\n",
       "      <td>0</td>\n",
       "      <td>0</td>\n",
       "    </tr>\n",
       "  </tbody>\n",
       "</table>\n",
       "<p>5 rows × 23 columns</p>\n",
       "</div>"
      ],
      "text/plain": [
       "   temperature   humidity        ph  water availability season  \\\n",
       "0    20.879744  82.002744  6.502985          202.935536  rainy   \n",
       "1    21.770462  80.319644  7.038096          226.655537  rainy   \n",
       "2    23.004459  82.320763  7.840207          263.964248  rainy   \n",
       "3    26.491096  80.158363  6.980401          242.864034  rainy   \n",
       "4    20.130175  81.604873  7.628473          262.717340  rainy   \n",
       "\n",
       "   encoded_season  label_blackgram  label_chickpea  label_cotton  label_jute  \\\n",
       "0               0                0               0             0           0   \n",
       "1               0                0               0             0           0   \n",
       "2               0                0               0             0           0   \n",
       "3               0                0               0             0           0   \n",
       "4               0                0               0             0           0   \n",
       "\n",
       "   ...  label_mothbeans  label_mungbean  label_muskmelon  label_pigeonpeas  \\\n",
       "0  ...                0               0                0                 0   \n",
       "1  ...                0               0                0                 0   \n",
       "2  ...                0               0                0                 0   \n",
       "3  ...                0               0                0                 0   \n",
       "4  ...                0               0                0                 0   \n",
       "\n",
       "   label_rice  label_watermelon  Country_Kenya  Country_Nigeria  \\\n",
       "0           1                 0              0                1   \n",
       "1           1                 0              0                1   \n",
       "2           1                 0              0                1   \n",
       "3           1                 0              0                1   \n",
       "4           1                 0              0                1   \n",
       "\n",
       "   Country_South Africa  Country_Sudan  \n",
       "0                     0              0  \n",
       "1                     0              0  \n",
       "2                     0              0  \n",
       "3                     0              0  \n",
       "4                     0              0  \n",
       "\n",
       "[5 rows x 23 columns]"
      ]
     },
     "execution_count": 260,
     "metadata": {},
     "output_type": "execute_result"
    }
   ],
   "source": [
    "X=pd.get_dummies(df2, columns=['label', 'Country'])\n",
    "X.head()"
   ]
  },
  {
   "cell_type": "code",
   "execution_count": 261,
   "id": "197e3f37",
   "metadata": {},
   "outputs": [],
   "source": [
    "X.to_csv('encoded_data1.csv', index=False)"
   ]
  },
  {
   "cell_type": "code",
   "execution_count": 219,
   "id": "ccddbb60",
   "metadata": {},
   "outputs": [],
   "source": [
    "season_dict=dict(zip(df2['season'].unique(), X['encoded_season'].unique()))\n",
    "season_dict_rev=dict(zip(X['encoded_season'].unique(), df2['season'].unique()))"
   ]
  },
  {
   "cell_type": "code",
   "execution_count": 220,
   "id": "cb8e3e1c",
   "metadata": {},
   "outputs": [
    {
     "data": {
      "text/plain": [
       "{'rainy': 0, 'winter': 3, 'spring': 1, 'summer': 2}"
      ]
     },
     "execution_count": 220,
     "metadata": {},
     "output_type": "execute_result"
    }
   ],
   "source": [
    "season_dict"
   ]
  },
  {
   "cell_type": "code",
   "execution_count": 221,
   "id": "a30f106f",
   "metadata": {},
   "outputs": [],
   "source": [
    "X.drop(columns=['season','encoded_season'], inplace=True)"
   ]
  },
  {
   "cell_type": "code",
   "execution_count": 159,
   "id": "a77e86c4",
   "metadata": {},
   "outputs": [],
   "source": [
    "y=df2['encoded_season']"
   ]
  },
  {
   "cell_type": "code",
   "execution_count": 160,
   "id": "f3bc65b3",
   "metadata": {},
   "outputs": [],
   "source": [
    "from sklearn.preprocessing import MinMaxScaler\n",
    "scaler=MinMaxScaler()\n",
    "scaled_df=scaler.fit_transform(scales)"
   ]
  },
  {
   "cell_type": "code",
   "execution_count": 161,
   "id": "2ae02d51",
   "metadata": {},
   "outputs": [],
   "source": [
    "scaled_df=pd.DataFrame(scaled_df, columns=['temperature','humidity','ph','water availability'])"
   ]
  },
  {
   "cell_type": "code",
   "execution_count": 162,
   "id": "dc6cca24",
   "metadata": {},
   "outputs": [
    {
     "data": {
      "text/plain": [
       "Index(['temperature', 'humidity', 'ph', 'water availability',\n",
       "       'label_blackgram', 'label_chickpea', 'label_cotton', 'label_jute',\n",
       "       'label_kidneybeans', 'label_lentil', 'label_maize', 'label_mothbeans',\n",
       "       'label_mungbean', 'label_muskmelon', 'label_pigeonpeas', 'label_rice',\n",
       "       'label_watermelon', 'Country_Kenya', 'Country_Nigeria',\n",
       "       'Country_South Africa', 'Country_Sudan'],\n",
       "      dtype='object')"
      ]
     },
     "execution_count": 162,
     "metadata": {},
     "output_type": "execute_result"
    }
   ],
   "source": [
    "col=X.columns\n",
    "col"
   ]
  },
  {
   "cell_type": "code",
   "execution_count": 197,
   "id": "b849df88",
   "metadata": {},
   "outputs": [],
   "source": [
    "import pickle"
   ]
  },
  {
   "cell_type": "code",
   "execution_count": 198,
   "id": "5c66b014",
   "metadata": {},
   "outputs": [],
   "source": [
    "output=y\n",
    "output, unique=pd.factorize(output)"
   ]
  },
  {
   "cell_type": "code",
   "execution_count": 163,
   "id": "c4f2b306",
   "metadata": {},
   "outputs": [],
   "source": [
    "needed=col[4:]"
   ]
  },
  {
   "cell_type": "code",
   "execution_count": 238,
   "id": "04e5be52",
   "metadata": {},
   "outputs": [],
   "source": [
    "X.to_csv('encoded_data.csv', index=False)"
   ]
  },
  {
   "cell_type": "code",
   "execution_count": 164,
   "id": "eeda120c",
   "metadata": {},
   "outputs": [
    {
     "name": "stdout",
     "output_type": "stream",
     "text": [
      "<class 'pandas.core.frame.DataFrame'>\n"
     ]
    }
   ],
   "source": [
    "print(type(X[needed]))\n",
    "obj_data=X[needed]"
   ]
  },
  {
   "cell_type": "code",
   "execution_count": 165,
   "id": "41df32e9",
   "metadata": {},
   "outputs": [
    {
     "data": {
      "text/html": [
       "<div>\n",
       "<style scoped>\n",
       "    .dataframe tbody tr th:only-of-type {\n",
       "        vertical-align: middle;\n",
       "    }\n",
       "\n",
       "    .dataframe tbody tr th {\n",
       "        vertical-align: top;\n",
       "    }\n",
       "\n",
       "    .dataframe thead th {\n",
       "        text-align: right;\n",
       "    }\n",
       "</style>\n",
       "<table border=\"1\" class=\"dataframe\">\n",
       "  <thead>\n",
       "    <tr style=\"text-align: right;\">\n",
       "      <th></th>\n",
       "      <th>temperature</th>\n",
       "      <th>humidity</th>\n",
       "      <th>ph</th>\n",
       "      <th>water availability</th>\n",
       "      <th>label_blackgram</th>\n",
       "      <th>label_chickpea</th>\n",
       "      <th>label_cotton</th>\n",
       "      <th>label_jute</th>\n",
       "      <th>label_kidneybeans</th>\n",
       "      <th>label_lentil</th>\n",
       "      <th>...</th>\n",
       "      <th>label_mothbeans</th>\n",
       "      <th>label_mungbean</th>\n",
       "      <th>label_muskmelon</th>\n",
       "      <th>label_pigeonpeas</th>\n",
       "      <th>label_rice</th>\n",
       "      <th>label_watermelon</th>\n",
       "      <th>Country_Kenya</th>\n",
       "      <th>Country_Nigeria</th>\n",
       "      <th>Country_South Africa</th>\n",
       "      <th>Country_Sudan</th>\n",
       "    </tr>\n",
       "  </thead>\n",
       "  <tbody>\n",
       "    <tr>\n",
       "      <th>0</th>\n",
       "      <td>20.879744</td>\n",
       "      <td>82.002744</td>\n",
       "      <td>6.502985</td>\n",
       "      <td>202.935536</td>\n",
       "      <td>0</td>\n",
       "      <td>0</td>\n",
       "      <td>0</td>\n",
       "      <td>0</td>\n",
       "      <td>0</td>\n",
       "      <td>0</td>\n",
       "      <td>...</td>\n",
       "      <td>0</td>\n",
       "      <td>0</td>\n",
       "      <td>0</td>\n",
       "      <td>0</td>\n",
       "      <td>1</td>\n",
       "      <td>0</td>\n",
       "      <td>0</td>\n",
       "      <td>1</td>\n",
       "      <td>0</td>\n",
       "      <td>0</td>\n",
       "    </tr>\n",
       "    <tr>\n",
       "      <th>1</th>\n",
       "      <td>21.770462</td>\n",
       "      <td>80.319644</td>\n",
       "      <td>7.038096</td>\n",
       "      <td>226.655537</td>\n",
       "      <td>0</td>\n",
       "      <td>0</td>\n",
       "      <td>0</td>\n",
       "      <td>0</td>\n",
       "      <td>0</td>\n",
       "      <td>0</td>\n",
       "      <td>...</td>\n",
       "      <td>0</td>\n",
       "      <td>0</td>\n",
       "      <td>0</td>\n",
       "      <td>0</td>\n",
       "      <td>1</td>\n",
       "      <td>0</td>\n",
       "      <td>0</td>\n",
       "      <td>1</td>\n",
       "      <td>0</td>\n",
       "      <td>0</td>\n",
       "    </tr>\n",
       "    <tr>\n",
       "      <th>2</th>\n",
       "      <td>23.004459</td>\n",
       "      <td>82.320763</td>\n",
       "      <td>7.840207</td>\n",
       "      <td>263.964248</td>\n",
       "      <td>0</td>\n",
       "      <td>0</td>\n",
       "      <td>0</td>\n",
       "      <td>0</td>\n",
       "      <td>0</td>\n",
       "      <td>0</td>\n",
       "      <td>...</td>\n",
       "      <td>0</td>\n",
       "      <td>0</td>\n",
       "      <td>0</td>\n",
       "      <td>0</td>\n",
       "      <td>1</td>\n",
       "      <td>0</td>\n",
       "      <td>0</td>\n",
       "      <td>1</td>\n",
       "      <td>0</td>\n",
       "      <td>0</td>\n",
       "    </tr>\n",
       "    <tr>\n",
       "      <th>3</th>\n",
       "      <td>26.491096</td>\n",
       "      <td>80.158363</td>\n",
       "      <td>6.980401</td>\n",
       "      <td>242.864034</td>\n",
       "      <td>0</td>\n",
       "      <td>0</td>\n",
       "      <td>0</td>\n",
       "      <td>0</td>\n",
       "      <td>0</td>\n",
       "      <td>0</td>\n",
       "      <td>...</td>\n",
       "      <td>0</td>\n",
       "      <td>0</td>\n",
       "      <td>0</td>\n",
       "      <td>0</td>\n",
       "      <td>1</td>\n",
       "      <td>0</td>\n",
       "      <td>0</td>\n",
       "      <td>1</td>\n",
       "      <td>0</td>\n",
       "      <td>0</td>\n",
       "    </tr>\n",
       "    <tr>\n",
       "      <th>4</th>\n",
       "      <td>20.130175</td>\n",
       "      <td>81.604873</td>\n",
       "      <td>7.628473</td>\n",
       "      <td>262.717340</td>\n",
       "      <td>0</td>\n",
       "      <td>0</td>\n",
       "      <td>0</td>\n",
       "      <td>0</td>\n",
       "      <td>0</td>\n",
       "      <td>0</td>\n",
       "      <td>...</td>\n",
       "      <td>0</td>\n",
       "      <td>0</td>\n",
       "      <td>0</td>\n",
       "      <td>0</td>\n",
       "      <td>1</td>\n",
       "      <td>0</td>\n",
       "      <td>0</td>\n",
       "      <td>1</td>\n",
       "      <td>0</td>\n",
       "      <td>0</td>\n",
       "    </tr>\n",
       "  </tbody>\n",
       "</table>\n",
       "<p>5 rows × 21 columns</p>\n",
       "</div>"
      ],
      "text/plain": [
       "   temperature   humidity        ph  water availability  label_blackgram  \\\n",
       "0    20.879744  82.002744  6.502985          202.935536                0   \n",
       "1    21.770462  80.319644  7.038096          226.655537                0   \n",
       "2    23.004459  82.320763  7.840207          263.964248                0   \n",
       "3    26.491096  80.158363  6.980401          242.864034                0   \n",
       "4    20.130175  81.604873  7.628473          262.717340                0   \n",
       "\n",
       "   label_chickpea  label_cotton  label_jute  label_kidneybeans  label_lentil  \\\n",
       "0               0             0           0                  0             0   \n",
       "1               0             0           0                  0             0   \n",
       "2               0             0           0                  0             0   \n",
       "3               0             0           0                  0             0   \n",
       "4               0             0           0                  0             0   \n",
       "\n",
       "   ...  label_mothbeans  label_mungbean  label_muskmelon  label_pigeonpeas  \\\n",
       "0  ...                0               0                0                 0   \n",
       "1  ...                0               0                0                 0   \n",
       "2  ...                0               0                0                 0   \n",
       "3  ...                0               0                0                 0   \n",
       "4  ...                0               0                0                 0   \n",
       "\n",
       "   label_rice  label_watermelon  Country_Kenya  Country_Nigeria  \\\n",
       "0           1                 0              0                1   \n",
       "1           1                 0              0                1   \n",
       "2           1                 0              0                1   \n",
       "3           1                 0              0                1   \n",
       "4           1                 0              0                1   \n",
       "\n",
       "   Country_South Africa  Country_Sudan  \n",
       "0                     0              0  \n",
       "1                     0              0  \n",
       "2                     0              0  \n",
       "3                     0              0  \n",
       "4                     0              0  \n",
       "\n",
       "[5 rows x 21 columns]"
      ]
     },
     "execution_count": 165,
     "metadata": {},
     "output_type": "execute_result"
    }
   ],
   "source": [
    "X.head()"
   ]
  },
  {
   "cell_type": "code",
   "execution_count": 166,
   "id": "93702426",
   "metadata": {},
   "outputs": [],
   "source": [
    "from sklearn.model_selection import train_test_split"
   ]
  },
  {
   "cell_type": "code",
   "execution_count": 167,
   "id": "e832d6f1",
   "metadata": {},
   "outputs": [],
   "source": [
    "x_train, x_test,y_train, y_test=train_test_split(X, y, test_size=.2, random_state=42)"
   ]
  },
  {
   "cell_type": "code",
   "execution_count": 168,
   "id": "f01e5384",
   "metadata": {},
   "outputs": [
    {
     "data": {
      "text/plain": [
       "((1120, 21), (280, 21))"
      ]
     },
     "execution_count": 168,
     "metadata": {},
     "output_type": "execute_result"
    }
   ],
   "source": [
    "x_train.shape, x_test.shape"
   ]
  },
  {
   "cell_type": "code",
   "execution_count": 169,
   "id": "792faa15",
   "metadata": {},
   "outputs": [
    {
     "data": {
      "text/plain": [
       "(1120,)"
      ]
     },
     "execution_count": 169,
     "metadata": {},
     "output_type": "execute_result"
    }
   ],
   "source": [
    "y_train.shape"
   ]
  },
  {
   "cell_type": "code",
   "execution_count": 170,
   "id": "ad08a66b",
   "metadata": {},
   "outputs": [],
   "source": [
    "scaled_train=scaler.fit_transform(x_train)\n",
    "scaled_test=scaler.fit_transform(x_test)"
   ]
  },
  {
   "cell_type": "code",
   "execution_count": 171,
   "id": "8f30dfba",
   "metadata": {},
   "outputs": [],
   "source": [
    "from sklearn.linear_model import LogisticRegression\n",
    "from sklearn.tree import DecisionTreeClassifier\n",
    "from sklearn.ensemble import RandomForestClassifier\n",
    "from xgboost import XGBClassifier\n",
    "from sklearn.svm import SVC\n",
    "# import metric library\n",
    "from sklearn.metrics import f1_score\n",
    "from sklearn.metrics import fbeta_score\n",
    "from sklearn.metrics import accuracy_score\n",
    "from sklearn.metrics import precision_score"
   ]
  },
  {
   "cell_type": "code",
   "execution_count": 172,
   "id": "9366f0f8",
   "metadata": {},
   "outputs": [],
   "source": [
    "rand=RandomForestClassifier(n_estimators=100)\n",
    "rand.fit(scaled_train,y_train)\n",
    "feature_scores=pd.Series(rand.feature_importances_, index=X.columns).sort_values(ascending=False)"
   ]
  },
  {
   "cell_type": "code",
   "execution_count": 173,
   "id": "2efa422b",
   "metadata": {},
   "outputs": [
    {
     "data": {
      "text/plain": [
       "water availability      0.213053\n",
       "humidity                0.147164\n",
       "label_mothbeans         0.078351\n",
       "label_watermelon        0.077678\n",
       "label_kidneybeans       0.074297\n",
       "ph                      0.054736\n",
       "label_cotton            0.053451\n",
       "label_blackgram         0.051426\n",
       "temperature             0.050375\n",
       "label_muskmelon         0.044310\n",
       "label_chickpea          0.032953\n",
       "label_mungbean          0.030749\n",
       "label_lentil            0.029318\n",
       "label_maize             0.022998\n",
       "label_pigeonpeas        0.013117\n",
       "label_rice              0.007900\n",
       "label_jute              0.005547\n",
       "Country_Nigeria         0.004008\n",
       "Country_Kenya           0.003530\n",
       "Country_South Africa    0.003493\n",
       "Country_Sudan           0.001544\n",
       "dtype: float64"
      ]
     },
     "execution_count": 173,
     "metadata": {},
     "output_type": "execute_result"
    }
   ],
   "source": [
    "feature_scores"
   ]
  },
  {
   "cell_type": "code",
   "execution_count": 174,
   "id": "3f6d105c",
   "metadata": {},
   "outputs": [
    {
     "data": {
      "text/plain": [
       "<Axes: >"
      ]
     },
     "execution_count": 174,
     "metadata": {},
     "output_type": "execute_result"
    },
    {
     "data": {
      "image/png": "[encoded data removed]",
      "text/plain": [
       "<Figure size 640x480 with 1 Axes>"
      ]
     },
     "metadata": {},
     "output_type": "display_data"
    }
   ],
   "source": [
    "feature_scores.plot(kind='bar')"
   ]
  },
  {
   "cell_type": "code",
   "execution_count": 237,
   "id": "c44f300f",
   "metadata": {},
   "outputs": [
    {
     "data": {
      "image/png": "[encoded data removed]",
      "text/plain": [
       "<Figure size 640x480 with 1 Axes>"
      ]
     },
     "metadata": {},
     "output_type": "display_data"
    }
   ],
   "source": [
    "fig, ax =plt.subplots()\n",
    "ax=sb.barplot(x= rand.feature_importances_, y=X.columns)\n",
    "plt.title('Features that best contribute to the performance of the model')\n",
    "plt.xlabel('Importance')\n",
    "plt.ylabel('Features')\n",
    "plt.tight_layout()\n",
    "fig.savefig('features_importance.png')"
   ]
  },
  {
   "cell_type": "code",
   "execution_count": 175,
   "id": "ee6dba56",
   "metadata": {},
   "outputs": [],
   "source": [
    "models={'random':RandomForestClassifier()\n",
    "        ,'tree':DecisionTreeClassifier(),\n",
    "        'xgboost':XGBClassifier(),\n",
    "       'svc':SVC()}"
   ]
  },
  {
   "cell_type": "code",
   "execution_count": 176,
   "id": "047280d7",
   "metadata": {},
   "outputs": [],
   "source": [
    "def evaluate_model(model, x_train,x_test,y_train,y_test):\n",
    "    train_scores=[]\n",
    "    test_scores=[]\n",
    "    name=[]\n",
    "    np.random.seed(50)\n",
    "    \n",
    "    for key, model in model.items():\n",
    "        #fit model\n",
    "        model.fit(x_train, y_train)\n",
    "        train_score= model.score(x_train,y_train)\n",
    "        train_scores.append(train_score)\n",
    "        test_score=model.score(x_test,y_test)\n",
    "        test_scores.append(test_score)\n",
    "        name.append(key)\n",
    "        df=pd.DataFrame({'model':name,\n",
    "                        'train_accuracy':train_scores, 'test_accuracy':test_scores})\n",
    "    return df"
   ]
  },
  {
   "cell_type": "code",
   "execution_count": 177,
   "id": "53b4837b",
   "metadata": {},
   "outputs": [
    {
     "name": "stdout",
     "output_type": "stream",
     "text": [
      "CPU times: total: 2.3 s\n",
      "Wall time: 2.03 s\n"
     ]
    },
    {
     "data": {
      "text/html": [
       "<div>\n",
       "<style scoped>\n",
       "    .dataframe tbody tr th:only-of-type {\n",
       "        vertical-align: middle;\n",
       "    }\n",
       "\n",
       "    .dataframe tbody tr th {\n",
       "        vertical-align: top;\n",
       "    }\n",
       "\n",
       "    .dataframe thead th {\n",
       "        text-align: right;\n",
       "    }\n",
       "</style>\n",
       "<table border=\"1\" class=\"dataframe\">\n",
       "  <thead>\n",
       "    <tr style=\"text-align: right;\">\n",
       "      <th></th>\n",
       "      <th>model</th>\n",
       "      <th>train_accuracy</th>\n",
       "      <th>test_accuracy</th>\n",
       "    </tr>\n",
       "  </thead>\n",
       "  <tbody>\n",
       "    <tr>\n",
       "      <th>0</th>\n",
       "      <td>random</td>\n",
       "      <td>0.978571</td>\n",
       "      <td>0.885714</td>\n",
       "    </tr>\n",
       "    <tr>\n",
       "      <th>1</th>\n",
       "      <td>tree</td>\n",
       "      <td>0.978571</td>\n",
       "      <td>0.903571</td>\n",
       "    </tr>\n",
       "    <tr>\n",
       "      <th>2</th>\n",
       "      <td>xgboost</td>\n",
       "      <td>0.978571</td>\n",
       "      <td>0.878571</td>\n",
       "    </tr>\n",
       "    <tr>\n",
       "      <th>3</th>\n",
       "      <td>svc</td>\n",
       "      <td>0.940179</td>\n",
       "      <td>0.917857</td>\n",
       "    </tr>\n",
       "  </tbody>\n",
       "</table>\n",
       "</div>"
      ],
      "text/plain": [
       "     model  train_accuracy  test_accuracy\n",
       "0   random        0.978571       0.885714\n",
       "1     tree        0.978571       0.903571\n",
       "2  xgboost        0.978571       0.878571\n",
       "3      svc        0.940179       0.917857"
      ]
     },
     "execution_count": 177,
     "metadata": {},
     "output_type": "execute_result"
    }
   ],
   "source": [
    "%%time\n",
    "score=evaluate_model(model=models,\n",
    "                     x_train=scaled_train,\n",
    "                     y_train=y_train,\n",
    "                     x_test=scaled_test,\n",
    "                     y_test=y_test,\n",
    "                    )\n",
    "score"
   ]
  },
  {
   "cell_type": "code",
   "execution_count": 178,
   "id": "6699d395",
   "metadata": {},
   "outputs": [],
   "source": [
    "from sklearn.model_selection import GridSearchCV,RepeatedStratifiedKFold"
   ]
  },
  {
   "cell_type": "code",
   "execution_count": 179,
   "id": "56567a6d",
   "metadata": {},
   "outputs": [],
   "source": [
    "model_tree=DecisionTreeClassifier(random_state=4)\n",
    "params={'criterion':['gini','entropy'],\n",
    "       'max_depth':[2,4,6,8,10,12],\n",
    "       'min_samples_split':[2,3]}\n",
    "cv_method=RepeatedStratifiedKFold(n_splits=5,\n",
    "                                 n_repeats=3,\n",
    "                                 random_state=100)\n",
    "gs_model=GridSearchCV(estimator=model_tree,\n",
    "                     param_grid=params,\n",
    "                     cv=cv_method,\n",
    "                     verbose=1,\n",
    "                     scoring='accuracy')"
   ]
  },
  {
   "cell_type": "code",
   "execution_count": 180,
   "id": "f81ae3d0",
   "metadata": {},
   "outputs": [
    {
     "name": "stdout",
     "output_type": "stream",
     "text": [
      "Fitting 15 folds for each of 24 candidates, totalling 360 fits\n"
     ]
    },
    {
     "data": {
      "text/html": [
       "<style>#sk-container-id-3 {color: black;}#sk-container-id-3 pre{padding: 0;}#sk-container-id-3 div.sk-toggleable {background-color: white;}#sk-container-id-3 label.sk-toggleable__label {cursor: pointer;display: block;width: 100%;margin-bottom: 0;padding: 0.3em;box-sizing: border-box;text-align: center;}#sk-container-id-3 label.sk-toggleable__label-arrow:before {content: \"▸\";float: left;margin-right: 0.25em;color: #696969;}#sk-container-id-3 label.sk-toggleable__label-arrow:hover:before {color: black;}#sk-container-id-3 div.sk-estimator:hover label.sk-toggleable__label-arrow:before {color: black;}#sk-container-id-3 div.sk-toggleable__content {max-height: 0;max-width: 0;overflow: hidden;text-align: left;background-color: #f0f8ff;}#sk-container-id-3 div.sk-toggleable__content pre {margin: 0.2em;color: black;border-radius: 0.25em;background-color: #f0f8ff;}#sk-container-id-3 input.sk-toggleable__control:checked~div.sk-toggleable__content {max-height: 200px;max-width: 100%;overflow: auto;}#sk-container-id-3 input.sk-toggleable__control:checked~label.sk-toggleable__label-arrow:before {content: \"▾\";}#sk-container-id-3 div.sk-estimator input.sk-toggleable__control:checked~label.sk-toggleable__label {background-color: #d4ebff;}#sk-container-id-3 div.sk-label input.sk-toggleable__control:checked~label.sk-toggleable__label {background-color: #d4ebff;}#sk-container-id-3 input.sk-hidden--visually {border: 0;clip: rect(1px 1px 1px 1px);clip: rect(1px, 1px, 1px, 1px);height: 1px;margin: -1px;overflow: hidden;padding: 0;position: absolute;width: 1px;}#sk-container-id-3 div.sk-estimator {font-family: monospace;background-color: #f0f8ff;border: 1px dotted black;border-radius: 0.25em;box-sizing: border-box;margin-bottom: 0.5em;}#sk-container-id-3 div.sk-estimator:hover {background-color: #d4ebff;}#sk-container-id-3 div.sk-parallel-item::after {content: \"\";width: 100%;border-bottom: 1px solid gray;flex-grow: 1;}#sk-container-id-3 div.sk-label:hover label.sk-toggleable__label {background-color: #d4ebff;}#sk-container-id-3 div.sk-serial::before {content: \"\";position: absolute;border-left: 1px solid gray;box-sizing: border-box;top: 0;bottom: 0;left: 50%;z-index: 0;}#sk-container-id-3 div.sk-serial {display: flex;flex-direction: column;align-items: center;background-color: white;padding-right: 0.2em;padding-left: 0.2em;position: relative;}#sk-container-id-3 div.sk-item {position: relative;z-index: 1;}#sk-container-id-3 div.sk-parallel {display: flex;align-items: stretch;justify-content: center;background-color: white;position: relative;}#sk-container-id-3 div.sk-item::before, #sk-container-id-3 div.sk-parallel-item::before {content: \"\";position: absolute;border-left: 1px solid gray;box-sizing: border-box;top: 0;bottom: 0;left: 50%;z-index: -1;}#sk-container-id-3 div.sk-parallel-item {display: flex;flex-direction: column;z-index: 1;position: relative;background-color: white;}#sk-container-id-3 div.sk-parallel-item:first-child::after {align-self: flex-end;width: 50%;}#sk-container-id-3 div.sk-parallel-item:last-child::after {align-self: flex-start;width: 50%;}#sk-container-id-3 div.sk-parallel-item:only-child::after {width: 0;}#sk-container-id-3 div.sk-dashed-wrapped {border: 1px dashed gray;margin: 0 0.4em 0.5em 0.4em;box-sizing: border-box;padding-bottom: 0.4em;background-color: white;}#sk-container-id-3 div.sk-label label {font-family: monospace;font-weight: bold;display: inline-block;line-height: 1.2em;}#sk-container-id-3 div.sk-label-container {text-align: center;}#sk-container-id-3 div.sk-container {/* jupyter's `normalize.less` sets `[hidden] { display: none; }` but bootstrap.min.css set `[hidden] { display: none !important; }` so we also need the `!important` here to be able to override the default hidden behavior on the sphinx rendered scikit-learn.org. See: https://github.com/scikit-learn/scikit-learn/issues/21755 */display: inline-block !important;position: relative;}#sk-container-id-3 div.sk-text-repr-fallback {display: none;}</style><div id=\"sk-container-id-3\" class=\"sk-top-container\"><div class=\"sk-text-repr-fallback\"><pre>GridSearchCV(cv=RepeatedStratifiedKFold(n_repeats=3, n_splits=5, random_state=100),\n",
       "             estimator=DecisionTreeClassifier(random_state=4),\n",
       "             param_grid={&#x27;criterion&#x27;: [&#x27;gini&#x27;, &#x27;entropy&#x27;],\n",
       "                         &#x27;max_depth&#x27;: [2, 4, 6, 8, 10, 12],\n",
       "                         &#x27;min_samples_split&#x27;: [2, 3]},\n",
       "             scoring=&#x27;accuracy&#x27;, verbose=1)</pre><b>In a Jupyter environment, please rerun this cell to show the HTML representation or trust the notebook. <br />On GitHub, the HTML representation is unable to render, please try loading this page with nbviewer.org.</b></div><div class=\"sk-container\" hidden><div class=\"sk-item sk-dashed-wrapped\"><div class=\"sk-label-container\"><div class=\"sk-label sk-toggleable\"><input class=\"sk-toggleable__control sk-hidden--visually\" id=\"sk-estimator-id-5\" type=\"checkbox\" ><label for=\"sk-estimator-id-5\" class=\"sk-toggleable__label sk-toggleable__label-arrow\">GridSearchCV</label><div class=\"sk-toggleable__content\"><pre>GridSearchCV(cv=RepeatedStratifiedKFold(n_repeats=3, n_splits=5, random_state=100),\n",
       "             estimator=DecisionTreeClassifier(random_state=4),\n",
       "             param_grid={&#x27;criterion&#x27;: [&#x27;gini&#x27;, &#x27;entropy&#x27;],\n",
       "                         &#x27;max_depth&#x27;: [2, 4, 6, 8, 10, 12],\n",
       "                         &#x27;min_samples_split&#x27;: [2, 3]},\n",
       "             scoring=&#x27;accuracy&#x27;, verbose=1)</pre></div></div></div><div class=\"sk-parallel\"><div class=\"sk-parallel-item\"><div class=\"sk-item\"><div class=\"sk-label-container\"><div class=\"sk-label sk-toggleable\"><input class=\"sk-toggleable__control sk-hidden--visually\" id=\"sk-estimator-id-6\" type=\"checkbox\" ><label for=\"sk-estimator-id-6\" class=\"sk-toggleable__label sk-toggleable__label-arrow\">estimator: DecisionTreeClassifier</label><div class=\"sk-toggleable__content\"><pre>DecisionTreeClassifier(random_state=4)</pre></div></div></div><div class=\"sk-serial\"><div class=\"sk-item\"><div class=\"sk-estimator sk-toggleable\"><input class=\"sk-toggleable__control sk-hidden--visually\" id=\"sk-estimator-id-7\" type=\"checkbox\" ><label for=\"sk-estimator-id-7\" class=\"sk-toggleable__label sk-toggleable__label-arrow\">DecisionTreeClassifier</label><div class=\"sk-toggleable__content\"><pre>DecisionTreeClassifier(random_state=4)</pre></div></div></div></div></div></div></div></div></div></div>"
      ],
      "text/plain": [
       "GridSearchCV(cv=RepeatedStratifiedKFold(n_repeats=3, n_splits=5, random_state=100),\n",
       "             estimator=DecisionTreeClassifier(random_state=4),\n",
       "             param_grid={'criterion': ['gini', 'entropy'],\n",
       "                         'max_depth': [2, 4, 6, 8, 10, 12],\n",
       "                         'min_samples_split': [2, 3]},\n",
       "             scoring='accuracy', verbose=1)"
      ]
     },
     "execution_count": 180,
     "metadata": {},
     "output_type": "execute_result"
    }
   ],
   "source": [
    "gs_model.fit(scaled_train,y_train)"
   ]
  },
  {
   "cell_type": "code",
   "execution_count": 181,
   "id": "072bdf51",
   "metadata": {},
   "outputs": [
    {
     "data": {
      "text/plain": [
       "{'criterion': 'entropy', 'max_depth': 6, 'min_samples_split': 2}"
      ]
     },
     "execution_count": 181,
     "metadata": {},
     "output_type": "execute_result"
    }
   ],
   "source": [
    "gs_model.best_params_"
   ]
  },
  {
   "cell_type": "code",
   "execution_count": 182,
   "id": "2f5dbf32",
   "metadata": {},
   "outputs": [
    {
     "data": {
      "text/plain": [
       "0.9244047619047618"
      ]
     },
     "execution_count": 182,
     "metadata": {},
     "output_type": "execute_result"
    }
   ],
   "source": [
    "gs_model.best_score_"
   ]
  },
  {
   "cell_type": "code",
   "execution_count": 183,
   "id": "e522b8d9",
   "metadata": {},
   "outputs": [
    {
     "data": {
      "text/plain": [
       "array([0.72172619, 0.72172619, 0.89553571, 0.89553571, 0.91785714,\n",
       "       0.91785714, 0.91190476, 0.91160714, 0.90863095, 0.90863095,\n",
       "       0.90297619, 0.90327381, 0.60833333, 0.60833333, 0.90952381,\n",
       "       0.90952381, 0.92440476, 0.92410714, 0.92083333, 0.92083333,\n",
       "       0.91428571, 0.91428571, 0.91130952, 0.91190476])"
      ]
     },
     "execution_count": 183,
     "metadata": {},
     "output_type": "execute_result"
    }
   ],
   "source": [
    "gs_model.cv_results_['mean_test_score']"
   ]
  },
  {
   "cell_type": "code",
   "execution_count": 184,
   "id": "149941c7",
   "metadata": {},
   "outputs": [
    {
     "data": {
      "text/html": [
       "<div>\n",
       "<style scoped>\n",
       "    .dataframe tbody tr th:only-of-type {\n",
       "        vertical-align: middle;\n",
       "    }\n",
       "\n",
       "    .dataframe tbody tr th {\n",
       "        vertical-align: top;\n",
       "    }\n",
       "\n",
       "    .dataframe thead th {\n",
       "        text-align: right;\n",
       "    }\n",
       "</style>\n",
       "<table border=\"1\" class=\"dataframe\">\n",
       "  <thead>\n",
       "    <tr style=\"text-align: right;\">\n",
       "      <th></th>\n",
       "      <th>criterion</th>\n",
       "      <th>max_depth</th>\n",
       "      <th>min_samples_split</th>\n",
       "      <th>test_score</th>\n",
       "    </tr>\n",
       "  </thead>\n",
       "  <tbody>\n",
       "    <tr>\n",
       "      <th>0</th>\n",
       "      <td>gini</td>\n",
       "      <td>2</td>\n",
       "      <td>2</td>\n",
       "      <td>0.721726</td>\n",
       "    </tr>\n",
       "    <tr>\n",
       "      <th>1</th>\n",
       "      <td>gini</td>\n",
       "      <td>2</td>\n",
       "      <td>3</td>\n",
       "      <td>0.721726</td>\n",
       "    </tr>\n",
       "    <tr>\n",
       "      <th>2</th>\n",
       "      <td>gini</td>\n",
       "      <td>4</td>\n",
       "      <td>2</td>\n",
       "      <td>0.895536</td>\n",
       "    </tr>\n",
       "    <tr>\n",
       "      <th>3</th>\n",
       "      <td>gini</td>\n",
       "      <td>4</td>\n",
       "      <td>3</td>\n",
       "      <td>0.895536</td>\n",
       "    </tr>\n",
       "    <tr>\n",
       "      <th>4</th>\n",
       "      <td>gini</td>\n",
       "      <td>6</td>\n",
       "      <td>2</td>\n",
       "      <td>0.917857</td>\n",
       "    </tr>\n",
       "  </tbody>\n",
       "</table>\n",
       "</div>"
      ],
      "text/plain": [
       "  criterion  max_depth  min_samples_split  test_score\n",
       "0      gini          2                  2    0.721726\n",
       "1      gini          2                  3    0.721726\n",
       "2      gini          4                  2    0.895536\n",
       "3      gini          4                  3    0.895536\n",
       "4      gini          6                  2    0.917857"
      ]
     },
     "execution_count": 184,
     "metadata": {},
     "output_type": "execute_result"
    }
   ],
   "source": [
    "result_df=pd.DataFrame(gs_model.cv_results_['params'])\n",
    "result_df['test_score']=gs_model.cv_results_['mean_test_score']\n",
    "result_df.head()"
   ]
  },
  {
   "cell_type": "code",
   "execution_count": 185,
   "id": "4279f658",
   "metadata": {},
   "outputs": [
    {
     "data": {
      "image/png": "[encoded data removed]",
      "text/plain": [
       "<Figure size 640x480 with 1 Axes>"
      ]
     },
     "metadata": {},
     "output_type": "display_data"
    }
   ],
   "source": [
    "sb.lineplot(data=result_df, x='max_depth', y='test_score',hue='criterion')\n",
    "plt.title('RF-Parameter Performance score')\n",
    "plt.xlabel('Max Depth')\n",
    "plt.ylabel('Mean CV Score');"
   ]
  },
  {
   "cell_type": "code",
   "execution_count": 186,
   "id": "9fb0d654",
   "metadata": {},
   "outputs": [],
   "source": [
    "best_model=DecisionTreeClassifier(criterion='entropy',max_depth=6, min_samples_split=2)"
   ]
  },
  {
   "cell_type": "code",
   "execution_count": 187,
   "id": "2782320e",
   "metadata": {},
   "outputs": [
    {
     "data": {
      "text/html": [
       "<style>#sk-container-id-4 {color: black;}#sk-container-id-4 pre{padding: 0;}#sk-container-id-4 div.sk-toggleable {background-color: white;}#sk-container-id-4 label.sk-toggleable__label {cursor: pointer;display: block;width: 100%;margin-bottom: 0;padding: 0.3em;box-sizing: border-box;text-align: center;}#sk-container-id-4 label.sk-toggleable__label-arrow:before {content: \"▸\";float: left;margin-right: 0.25em;color: #696969;}#sk-container-id-4 label.sk-toggleable__label-arrow:hover:before {color: black;}#sk-container-id-4 div.sk-estimator:hover label.sk-toggleable__label-arrow:before {color: black;}#sk-container-id-4 div.sk-toggleable__content {max-height: 0;max-width: 0;overflow: hidden;text-align: left;background-color: #f0f8ff;}#sk-container-id-4 div.sk-toggleable__content pre {margin: 0.2em;color: black;border-radius: 0.25em;background-color: #f0f8ff;}#sk-container-id-4 input.sk-toggleable__control:checked~div.sk-toggleable__content {max-height: 200px;max-width: 100%;overflow: auto;}#sk-container-id-4 input.sk-toggleable__control:checked~label.sk-toggleable__label-arrow:before {content: \"▾\";}#sk-container-id-4 div.sk-estimator input.sk-toggleable__control:checked~label.sk-toggleable__label {background-color: #d4ebff;}#sk-container-id-4 div.sk-label input.sk-toggleable__control:checked~label.sk-toggleable__label {background-color: #d4ebff;}#sk-container-id-4 input.sk-hidden--visually {border: 0;clip: rect(1px 1px 1px 1px);clip: rect(1px, 1px, 1px, 1px);height: 1px;margin: -1px;overflow: hidden;padding: 0;position: absolute;width: 1px;}#sk-container-id-4 div.sk-estimator {font-family: monospace;background-color: #f0f8ff;border: 1px dotted black;border-radius: 0.25em;box-sizing: border-box;margin-bottom: 0.5em;}#sk-container-id-4 div.sk-estimator:hover {background-color: #d4ebff;}#sk-container-id-4 div.sk-parallel-item::after {content: \"\";width: 100%;border-bottom: 1px solid gray;flex-grow: 1;}#sk-container-id-4 div.sk-label:hover label.sk-toggleable__label {background-color: #d4ebff;}#sk-container-id-4 div.sk-serial::before {content: \"\";position: absolute;border-left: 1px solid gray;box-sizing: border-box;top: 0;bottom: 0;left: 50%;z-index: 0;}#sk-container-id-4 div.sk-serial {display: flex;flex-direction: column;align-items: center;background-color: white;padding-right: 0.2em;padding-left: 0.2em;position: relative;}#sk-container-id-4 div.sk-item {position: relative;z-index: 1;}#sk-container-id-4 div.sk-parallel {display: flex;align-items: stretch;justify-content: center;background-color: white;position: relative;}#sk-container-id-4 div.sk-item::before, #sk-container-id-4 div.sk-parallel-item::before {content: \"\";position: absolute;border-left: 1px solid gray;box-sizing: border-box;top: 0;bottom: 0;left: 50%;z-index: -1;}#sk-container-id-4 div.sk-parallel-item {display: flex;flex-direction: column;z-index: 1;position: relative;background-color: white;}#sk-container-id-4 div.sk-parallel-item:first-child::after {align-self: flex-end;width: 50%;}#sk-container-id-4 div.sk-parallel-item:last-child::after {align-self: flex-start;width: 50%;}#sk-container-id-4 div.sk-parallel-item:only-child::after {width: 0;}#sk-container-id-4 div.sk-dashed-wrapped {border: 1px dashed gray;margin: 0 0.4em 0.5em 0.4em;box-sizing: border-box;padding-bottom: 0.4em;background-color: white;}#sk-container-id-4 div.sk-label label {font-family: monospace;font-weight: bold;display: inline-block;line-height: 1.2em;}#sk-container-id-4 div.sk-label-container {text-align: center;}#sk-container-id-4 div.sk-container {/* jupyter's `normalize.less` sets `[hidden] { display: none; }` but bootstrap.min.css set `[hidden] { display: none !important; }` so we also need the `!important` here to be able to override the default hidden behavior on the sphinx rendered scikit-learn.org. See: https://github.com/scikit-learn/scikit-learn/issues/21755 */display: inline-block !important;position: relative;}#sk-container-id-4 div.sk-text-repr-fallback {display: none;}</style><div id=\"sk-container-id-4\" class=\"sk-top-container\"><div class=\"sk-text-repr-fallback\"><pre>DecisionTreeClassifier(criterion=&#x27;entropy&#x27;, max_depth=6)</pre><b>In a Jupyter environment, please rerun this cell to show the HTML representation or trust the notebook. <br />On GitHub, the HTML representation is unable to render, please try loading this page with nbviewer.org.</b></div><div class=\"sk-container\" hidden><div class=\"sk-item\"><div class=\"sk-estimator sk-toggleable\"><input class=\"sk-toggleable__control sk-hidden--visually\" id=\"sk-estimator-id-8\" type=\"checkbox\" checked><label for=\"sk-estimator-id-8\" class=\"sk-toggleable__label sk-toggleable__label-arrow\">DecisionTreeClassifier</label><div class=\"sk-toggleable__content\"><pre>DecisionTreeClassifier(criterion=&#x27;entropy&#x27;, max_depth=6)</pre></div></div></div></div></div>"
      ],
      "text/plain": [
       "DecisionTreeClassifier(criterion='entropy', max_depth=6)"
      ]
     },
     "execution_count": 187,
     "metadata": {},
     "output_type": "execute_result"
    }
   ],
   "source": [
    "best_model.fit(scaled_train,y_train)"
   ]
  },
  {
   "cell_type": "code",
   "execution_count": 188,
   "id": "4e15b94b",
   "metadata": {},
   "outputs": [],
   "source": [
    "predict_t=best_model.predict(scaled_test)"
   ]
  },
  {
   "cell_type": "code",
   "execution_count": 189,
   "id": "09aaf448",
   "metadata": {},
   "outputs": [
    {
     "name": "stdout",
     "output_type": "stream",
     "text": [
      "The accuracy score of the train data is 91.0%\n"
     ]
    }
   ],
   "source": [
    "print('The accuracy score of the train data is {}%'. format(round(accuracy_score(predict_t,y_test),2)*100))"
   ]
  },
  {
   "cell_type": "code",
   "execution_count": 190,
   "id": "0e1d8dee",
   "metadata": {},
   "outputs": [],
   "source": [
    "from sklearn.model_selection import cross_val_predict, cross_val_score\n",
    "from sklearn.metrics import f1_score, recall_score, confusion_matrix, ConfusionMatrixDisplay, classification_report"
   ]
  },
  {
   "cell_type": "code",
   "execution_count": 191,
   "id": "786f954f",
   "metadata": {},
   "outputs": [],
   "source": [
    "predict_scor=cross_val_predict(best_model, scaled_test,y_test,cv=3)"
   ]
  },
  {
   "cell_type": "code",
   "execution_count": 192,
   "id": "38f9498b",
   "metadata": {},
   "outputs": [],
   "source": [
    "report= classification_report(y_test, predict_t)"
   ]
  },
  {
   "cell_type": "code",
   "execution_count": 193,
   "id": "af0345a5",
   "metadata": {},
   "outputs": [
    {
     "name": "stdout",
     "output_type": "stream",
     "text": [
      "              precision    recall  f1-score   support\n",
      "\n",
      "           0       0.88      0.91      0.90       117\n",
      "           1       1.00      1.00      1.00        20\n",
      "           2       1.00      1.00      1.00        62\n",
      "           3       0.87      0.83      0.85        81\n",
      "\n",
      "    accuracy                           0.91       280\n",
      "   macro avg       0.94      0.94      0.94       280\n",
      "weighted avg       0.91      0.91      0.91       280\n",
      "\n"
     ]
    }
   ],
   "source": [
    "print(report)"
   ]
  },
  {
   "cell_type": "code",
   "execution_count": 194,
   "id": "d8a0bec7",
   "metadata": {},
   "outputs": [
    {
     "data": {
      "image/png": "[encoded data removed]",
      "text/plain": [
       "<Figure size 640x480 with 2 Axes>"
      ]
     },
     "metadata": {},
     "output_type": "display_data"
    }
   ],
   "source": [
    "dist=ConfusionMatrixDisplay.from_predictions(y_test, predict_scor)\n",
    "dist.plot;"
   ]
  },
  {
   "cell_type": "code",
   "execution_count": 196,
   "id": "f12d00cf",
   "metadata": {},
   "outputs": [
    {
     "data": {
      "text/plain": [
       "{0: 'rainy', 3: 'winter', 1: 'spring', 2: 'summer'}"
      ]
     },
     "execution_count": 196,
     "metadata": {},
     "output_type": "execute_result"
    }
   ],
   "source": [
    "### Season Label\n",
    "season_dict_rev"
   ]
  },
  {
   "cell_type": "code",
   "execution_count": 195,
   "id": "8894ba43",
   "metadata": {},
   "outputs": [
    {
     "data": {
      "text/plain": [
       "['model_used.joblib']"
      ]
     },
     "execution_count": 195,
     "metadata": {},
     "output_type": "execute_result"
    }
   ],
   "source": [
    "import joblib\n",
    "joblib.dump(best_model,'model_used.joblib')"
   ]
  },
  {
   "cell_type": "code",
   "execution_count": 199,
   "id": "11ecd35f",
   "metadata": {},
   "outputs": [],
   "source": [
    "pickle_model=open('decision_tree.pickle','wb')\n",
    "pickle.dump(best_model, pickle_model)\n",
    "pickle_model.close()"
   ]
  },
  {
   "cell_type": "code",
   "execution_count": 200,
   "id": "e3a55940",
   "metadata": {},
   "outputs": [],
   "source": [
    "data_pickle=open('dataset.pickle','wb')\n",
    "pickle.dump(unique,data_pickle)\n",
    "data_pickle.close()"
   ]
  },
  {
   "cell_type": "code",
   "execution_count": 235,
   "id": "c9f0b51e",
   "metadata": {},
   "outputs": [],
   "source": [
    "scale=open('scaler.pickle','wb')\n",
    "pickle.dump(scaler,scale)\n",
    "scale.close()"
   ]
  },
  {
   "cell_type": "markdown",
   "id": "7ee2b069",
   "metadata": {},
   "source": [
    "### Conclussion\n",
    ">The best model for the with highest test accuracy after tunning is Decision tree classifier, with test accuracy of 91% and train accuracy of 98% \n",
    "\n",
    ">The importance parameters that contribute to the performance of the model are water availability, humidity ph\n",
    "\n",
    "> The best criterion is Entropy with max_depth of 6, min_samples_split of 2\n"
   ]
  },
  {
   "cell_type": "code",
   "execution_count": null,
   "id": "625c6115",
   "metadata": {},
   "outputs": [],
   "source": []
  }
 ],
 "metadata": {
  "kernelspec": {
   "display_name": "Python 3 (ipykernel)",
   "language": "python",
   "name": "python3"
  },
  "language_info": {
   "codemirror_mode": {
    "name": "ipython",
    "version": 3
   },
   "file_extension": ".py",
   "mimetype": "text/x-python",
   "name": "python",
   "nbconvert_exporter": "python",
   "pygments_lexer": "ipython3",
   "version": "3.11.4"
  }
 },
 "nbformat": 4,
 "nbformat_minor": 5
}
